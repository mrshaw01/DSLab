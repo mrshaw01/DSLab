{
 "cells": [
  {
   "cell_type": "code",
   "execution_count": 1,
   "id": "abc51698",
   "metadata": {},
   "outputs": [],
   "source": [
    "import os\n",
    "import numpy as np\n",
    "from collections import defaultdict\n",
    "from sklearn.cluster import KMeans\n",
    "from sklearn import metrics\n",
    "from sklearn.metrics.cluster import normalized_mutual_info_score\n",
    "from scipy.sparse import csr_matrix"
   ]
  },
  {
   "cell_type": "code",
   "execution_count": 2,
   "id": "8f59d278",
   "metadata": {},
   "outputs": [],
   "source": [
    "def load_data(data_path):\n",
    "        def sparse_to_dense(sparse_r_d, vocab_size):\n",
    "            r_d = [0.0 for _ in range(vocab_size)]\n",
    "            indices_tfidfs = sparse_r_d.split()\n",
    "            for index_tfidf in indices_tfidfs:\n",
    "                index = int(index_tfidf.split(\":\")[0])\n",
    "                tfidf = float(index_tfidf.split(\":\")[1])\n",
    "                r_d[index] = tfidf\n",
    "            return np.array(r_d)\n",
    "\n",
    "        with open(data_path) as f:\n",
    "            d_lines = f.read().splitlines()\n",
    "\n",
    "        with open(os.getcwd()+\"/20news-bydate/20news-full-words-idfs.txt\") as f:\n",
    "            vocab_size = len(f.read().splitlines())\n",
    "\n",
    "        data = []\n",
    "        labels = []\n",
    "        for d in d_lines:\n",
    "            features = d.split(\"<fff>\")\n",
    "            label, doc_id = int(features[0]), int(features[1])\n",
    "            if label not in labels:\n",
    "                print(f\"Loading cluster {label}\")\n",
    "            r_d = sparse_to_dense(sparse_r_d=features[2], vocab_size=vocab_size)\n",
    "            data.append(r_d)\n",
    "            labels.append(label)\n",
    "        return data, labels"
   ]
  },
  {
   "cell_type": "code",
   "execution_count": 3,
   "id": "4f8cb434",
   "metadata": {},
   "outputs": [],
   "source": [
    "def purity_score(y_true, y_pred):\n",
    "    contingency_matrix = metrics.cluster.contingency_matrix(y_true, y_pred)\n",
    "    return np.sum(np.amax(contingency_matrix, axis=0)) / np.sum(contingency_matrix)"
   ]
  },
  {
   "cell_type": "code",
   "execution_count": 4,
   "id": "4538527c",
   "metadata": {},
   "outputs": [],
   "source": [
    "def clustering_with_KMeans():\n",
    "    data, labels = load_data(os.getcwd()+\"/20news-bydate/20news-full-tf-idf.txt\")\n",
    "    X = csr_matrix(data)\n",
    "    print(f\"Data shape: {X.shape}\")\n",
    "    print(f\"Label shape: {len(labels)}\")\n",
    "    kmeans  = KMeans(n_clusters = 20, init = 'random', n_init = 5, tol = 1e-3, random_state = 2018).fit(X)\n",
    "    print(f\"Purity: {purity_score(labels, kmeans.labels_)}\")\n",
    "    print(f\"{normalized_mutual_info_score(labels, kmeans.labels_)}\")"
   ]
  },
  {
   "cell_type": "code",
   "execution_count": 5,
   "id": "cc8a3a80",
   "metadata": {},
   "outputs": [
    {
     "name": "stdout",
     "output_type": "stream",
     "text": [
      "Loading cluster 0\n",
      "Loading cluster 1\n",
      "Loading cluster 2\n",
      "Loading cluster 3\n",
      "Loading cluster 4\n",
      "Loading cluster 5\n",
      "Loading cluster 6\n",
      "Loading cluster 7\n",
      "Loading cluster 8\n",
      "Loading cluster 9\n",
      "Loading cluster 10\n",
      "Loading cluster 11\n",
      "Loading cluster 12\n",
      "Loading cluster 13\n",
      "Loading cluster 14\n",
      "Loading cluster 15\n",
      "Loading cluster 16\n",
      "Loading cluster 17\n",
      "Loading cluster 18\n",
      "Loading cluster 19\n",
      "Data shape: (18846, 14234)\n",
      "Label shape: 18846\n",
      "Purity: 0.4092115037673777\n",
      "0.44204061784146925\n"
     ]
    }
   ],
   "source": [
    "clustering_with_KMeans()"
   ]
  }
 ],
 "metadata": {
  "kernelspec": {
   "display_name": "Python 3 (ipykernel)",
   "language": "python",
   "name": "python3"
  },
  "language_info": {
   "codemirror_mode": {
    "name": "ipython",
    "version": 3
   },
   "file_extension": ".py",
   "mimetype": "text/x-python",
   "name": "python",
   "nbconvert_exporter": "python",
   "pygments_lexer": "ipython3",
   "version": "3.10.1"
  }
 },
 "nbformat": 4,
 "nbformat_minor": 5
}
